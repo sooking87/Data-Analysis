{
 "cells": [
  {
   "cell_type": "code",
   "execution_count": 2,
   "metadata": {},
   "outputs": [
    {
     "name": "stdout",
     "output_type": "stream",
     "text": [
      "[95.0, 90.0, 90.0, 70, 92, 88, 80]\n",
      "7\n",
      "<class 'list'>\n",
      "<class 'float'>\n",
      "<class 'int'>\n"
     ]
    }
   ],
   "source": [
    "import numpy as np\n",
    "\n",
    "lst = [95., 90., 90., 70, 92, 88, 80]\n",
    "print(lst)\n",
    "print(len(lst))\n",
    "print(type(lst))\n",
    "print(type(lst[0]))\n",
    "print(type(lst[4]))"
   ]
  },
  {
   "cell_type": "markdown",
   "metadata": {},
   "source": [
    "- 리스트에는 각각의 값을 따로따로 저장을 한다.\n",
    "- array의 경우는 한 번에(연결되어서) 같은 메모리에 저장. -> 데이터 타입이 통일될 수 밖에 없음."
   ]
  },
  {
   "cell_type": "code",
   "execution_count": 3,
   "metadata": {},
   "outputs": [
    {
     "name": "stdout",
     "output_type": "stream",
     "text": [
      "[95. 90. 90. 70. 92. 88. 80.]\n",
      "(7,)\n",
      "<class 'numpy.ndarray'>\n",
      "float64\n"
     ]
    }
   ],
   "source": [
    "arr = np.array(lst) # 넘파이 배열은 하나의 타입으로 저의가 된다.\n",
    "print(arr)\n",
    "print(arr.shape)\n",
    "print(type(arr))\n",
    "print(arr.dtype) # 모든 타입이 float64로 통일된다. 따로 자료 지정이 없으면 float64로 지정해주게 된다. "
   ]
  },
  {
   "cell_type": "markdown",
   "metadata": {},
   "source": [
    "## 파이썬 float\n",
    "\n",
    "- 파이썬 float는 8바이트(64비트)\n",
    "- float = floating point의 약자 -> 소수점에 **근사** 한 소수(8바이트에 맞춰서 저장)\n",
    "- floating point는 유효자리 숫자를 보장한다. -> 8바이트는 8자리 유효를 보장\n",
    "- floating point 사칙연산이 빠른 이유 -> floating point 전용 HW가 들어가있디.(물론 int보다는 느린데) 전용 HW가 들어가있기 때문에 floating point의 가능 용량이 4, 8바이트이다.\n",
    "- 4바이트(32비트)를 float로 잡아도 상관없다."
   ]
  },
  {
   "cell_type": "markdown",
   "metadata": {},
   "source": [
    "## np.array VS np.matrix"
   ]
  },
  {
   "cell_type": "code",
   "execution_count": 13,
   "metadata": {},
   "outputs": [
    {
     "name": "stdout",
     "output_type": "stream",
     "text": [
      "(2, 2)\n",
      "배열끼리 곱하기:\n",
      " [[150 220]\n",
      " [230 340]]\n",
      "각 요소끼리 곱하기:\n",
      " [[ 30  80]\n",
      " [150 240]]\n",
      "행렬의 곱:\n",
      " [[150 220]\n",
      " [230 340]]\n",
      "각 요소끼리 곱\n",
      " [[ 30  80]\n",
      " [150 240]]\n",
      "행렬의 곱:\n",
      " [[150 220]\n",
      " [230 340]]\n",
      "각 요소끼리 곱?\n",
      " [[150 220]\n",
      " [230 340]]\n"
     ]
    }
   ],
   "source": [
    "# lst1 = [[95, 90, 90], [70, 92, 88]]\n",
    "# lst2 = [[90, 5, 7], [4, 2, 8], [2, 3, 4]]\n",
    "lst1 = [[3, 4], [5, 6]]\n",
    "lst2 = [[10, 20], [30, 40]]\n",
    "print(np.shape(lst1))\n",
    "\n",
    "arr1 = np.array(lst1)\n",
    "arr2 = np.array(lst2)\n",
    "\n",
    "print('행렬의 곱:\\n', np.matmul(arr1, arr2)) \n",
    "\n",
    "arr3 = np.matrix(lst1)\n",
    "arr4 = np.matrix(lst2)\n",
    "print('각 요소끼리 곱하기:\\n', np.multiply(arr3, arr4))\n",
    "\n",
    "print('행렬의 곱:\\n', arr1 @ arr2)\n",
    "print('각 요소끼리 곱\\n', arr1 * arr2) \n",
    "\n",
    "print('행렬의 곱:\\n', arr3 @ arr4)\n",
    "print('각 요소끼리 곱?\\n', arr3 * arr4) # matrix의 경우는 @, * 모두 행렬의 곱을 나타낸다.\n",
    "\n",
    "## 결론 -> matrix는 사용하지 않는다. 보통 array를 사용하고 행렬의 곱 연산자는 @를 사용한다.\n"
   ]
  },
  {
   "cell_type": "markdown",
   "metadata": {},
   "source": [
    "## numpy의 두 가지 형태\n",
    "\n",
    "- np. ~\n",
    "- arr. ~"
   ]
  },
  {
   "cell_type": "code",
   "execution_count": 5,
   "metadata": {},
   "outputs": [
    {
     "name": "stdout",
     "output_type": "stream",
     "text": [
      "[ 0  1  2  3  4  5  6  7  8  9 10 11 12 13 14 15]\n",
      "[[ 0  1  2  3]\n",
      " [ 4  5  6  7]\n",
      " [ 8  9 10 11]\n",
      " [12 13 14 15]]\n"
     ]
    }
   ],
   "source": [
    "# np. ~\n",
    "arr1 = np.arange(16)\n",
    "arr2 = np.reshape(arr1, (4, 4))\n",
    "print(arr1)\n",
    "print(arr2)"
   ]
  },
  {
   "cell_type": "code",
   "execution_count": 6,
   "metadata": {},
   "outputs": [
    {
     "name": "stdout",
     "output_type": "stream",
     "text": [
      "[ 0  1  2  3  4  5  6  7  8  9 10 11 12 13 14 15]\n",
      "[[ 0  1  2  3]\n",
      " [ 4  5  6  7]\n",
      " [ 8  9 10 11]\n",
      " [12 13 14 15]]\n"
     ]
    }
   ],
   "source": [
    "# arr. ~\n",
    "arr1 = np.arange(16)\n",
    "arr2 = arr1.reshape(4, 4)\n",
    "print(arr1)\n",
    "print(arr2)"
   ]
  },
  {
   "cell_type": "markdown",
   "metadata": {},
   "source": [
    "## np.reshpae"
   ]
  },
  {
   "cell_type": "code",
   "execution_count": 15,
   "metadata": {},
   "outputs": [
    {
     "name": "stdout",
     "output_type": "stream",
     "text": [
      "[0 1 2 3 4 5 6 7]\n",
      "[[0 1 2 3]\n",
      " [4 5 6 7]]\n"
     ]
    }
   ],
   "source": [
    "arr1 = np.arange(8)\n",
    "print(arr1)\n",
    "\n",
    "arr2 = np.reshape(arr1, (2, -1)) # -1 -> 나머지 요소 개수를 알아서 정의해줘\n",
    "print(arr2)\n",
    "# 만약에 개수가 맞지 않으면 에러가 난다"
   ]
  },
  {
   "cell_type": "code",
   "execution_count": 19,
   "metadata": {},
   "outputs": [
    {
     "name": "stdout",
     "output_type": "stream",
     "text": [
      "[ 0  1  2  3  4  5  6  7  8  9 10 11]\n",
      "[[ 0  1  2  3  4  5]\n",
      " [ 6  7  8  9 10 11]]\n",
      "0\n",
      "[0 1 2 3 4 5]\n",
      "넘파이적 사고로 0번째 배열 출력하기: [0 1 2 3 4 5]\n",
      "0\n"
     ]
    }
   ],
   "source": [
    "arr1 = np.arange(12)\n",
    "arr2 = arr1.reshape(2, -1)\n",
    "print(arr1)\n",
    "print(arr2)\n",
    "\n",
    "print(arr1[0])\n",
    "print(arr2[0]) # 2차원 배열이니까 0번째 인덱스는 넘파이 배열이 된당\n",
    "print('넘파이적 사고로 0번째 배열 출력하기:', arr2[0, :])\n",
    "print(arr2[0, 0])\n",
    "# 넘파이 arange로 만들면 메모리 공간을 12개를 연속으로 만드는데(크기랑 상관없음(3차원이더라도 연속으로 메모리 할당)), reshape를 하게 되면 메모리에 다시 할당된게 아니라 다른 변수명의 point가 같다. 실제로 값을 저장하는 곳은 동일한데, 변수마다 shape를 저장하는 공간은 따로 있다. \n",
    "# 변수마다 크기와 메모리 할당 위치만 저장이 된다. -> deep copy 의 필요성"
   ]
  },
  {
   "cell_type": "markdown",
   "metadata": {},
   "source": [
    "## deep copy"
   ]
  },
  {
   "cell_type": "code",
   "execution_count": 23,
   "metadata": {},
   "outputs": [
    {
     "name": "stdout",
     "output_type": "stream",
     "text": [
      "[ 0  1  2  3  4  5  6  7  8  9 10 11]\n",
      "[[10  1  2  3  4  5]\n",
      " [ 6  7  8  9 10 11]]\n",
      "arr1 메모리 공간을 가리키고 있음: [2 3 4 5 6 7 8 9]\n",
      "arr2와 다른 공간을 가리키고 있음:\n",
      " [[ 0  1  2  3  4  5]\n",
      " [ 6  7  8  9 10 11]]\n"
     ]
    }
   ],
   "source": [
    "arr1 = np.arange(12)\n",
    "arr2 = arr2.reshape(2, -1)\n",
    "arr3 = arr1[2:10]\n",
    "arr4 = arr2.copy()\n",
    "\n",
    "arr2[0, 0] = 10\n",
    "\n",
    "print(arr1)\n",
    "print(arr2)\n",
    "print('arr1 메모리 공간을 가리키고 있음:', arr3)\n",
    "print('arr2와 다른 공간을 가리키고 있음:\\n', arr4)"
   ]
  },
  {
   "cell_type": "markdown",
   "metadata": {},
   "source": [
    "## indexing"
   ]
  },
  {
   "cell_type": "code",
   "execution_count": 25,
   "metadata": {},
   "outputs": [
    {
     "name": "stdout",
     "output_type": "stream",
     "text": [
      "[[ 0  1  2  3]\n",
      " [ 4  5  6  7]\n",
      " [ 8  9 10 11]\n",
      " [12 13 14 15]]\n",
      "7\n",
      "1\n",
      "10\n",
      "[ 7  1 10]\n"
     ]
    }
   ],
   "source": [
    "arr1 = np.arange(16)\n",
    "arr2 = arr1.reshape(4, -1)\n",
    "\n",
    "print(arr2)\n",
    "print(arr2[1, 3])\n",
    "print(arr2[0, 1])\n",
    "print(arr2[2, 2])\n",
    "\n",
    "print(arr2[[1, 0, 2], [3, 1, 2]]) # 요소 한 번에 뽑기 arr2[1, 3], arr2[0, 1], arr2[2, 2] 각각 출력해줌."
   ]
  },
  {
   "cell_type": "markdown",
   "metadata": {},
   "source": [
    "## slicing"
   ]
  },
  {
   "cell_type": "code",
   "execution_count": 26,
   "metadata": {},
   "outputs": [
    {
     "name": "stdout",
     "output_type": "stream",
     "text": [
      "[[ 0  1  2  3]\n",
      " [ 4  5  6  7]\n",
      " [ 8  9 10 11]\n",
      " [12 13 14 15]]\n",
      "[[ 5  6]\n",
      " [ 9 10]]\n",
      "[[ 0  1  2  3]\n",
      " [ 4  5  6  7]\n",
      " [ 8  9 10 11]\n",
      " [12 13 14 15]]\n",
      "[[ 4  5  6]\n",
      " [ 8  9 10]\n",
      " [12 13 14]]\n"
     ]
    }
   ],
   "source": [
    "arr = np.arange(16).reshape(4, 4)\n",
    "\n",
    "print(arr) # 시작하는 위치를 집음\n",
    "print(arr[1:3, 1:3])\n",
    "print(arr[:, :]) # 데이터 그 자체를 집음, 순수하게 데이터끼리 copy할 때\n",
    "print(arr[1:, :-1]) # 마지막 열 포함 아님."
   ]
  },
  {
   "cell_type": "code",
   "execution_count": null,
   "metadata": {},
   "outputs": [],
   "source": []
  }
 ],
 "metadata": {
  "kernelspec": {
   "display_name": "Python 3",
   "language": "python",
   "name": "python3"
  },
  "language_info": {
   "codemirror_mode": {
    "name": "ipython",
    "version": 3
   },
   "file_extension": ".py",
   "mimetype": "text/x-python",
   "name": "python",
   "nbconvert_exporter": "python",
   "pygments_lexer": "ipython3",
   "version": "3.10.11"
  },
  "orig_nbformat": 4
 },
 "nbformat": 4,
 "nbformat_minor": 2
}
