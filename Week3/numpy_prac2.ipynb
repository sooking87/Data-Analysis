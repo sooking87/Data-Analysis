{
 "cells": [
  {
   "cell_type": "markdown",
   "metadata": {},
   "source": [
    "`a = [1, 2, 10 'a']` <br>\n",
    "이라고 한다면 하나의 리스트라고 해도 메모리 상에는 각각 따로 저장이 된다. (연속적으로 메모리에 저장되지 않음) <br>\n",
    "\n",
    "`b = np.array([1, 2, 3, 4])` <br>\n",
    "이라고 한다면 메모리 상에 연속적으로 저장이 되기 때문에 여기서 크기 정보만 따로 저장을 해서 출력 크기 역시 따로 저장할 수 있다. (1\\*4로 할지, 2\\*2로 할지)"
   ]
  },
  {
   "cell_type": "code",
   "execution_count": 1,
   "metadata": {},
   "outputs": [
    {
     "name": "stdout",
     "output_type": "stream",
     "text": [
      "[700 500 700] [900 700 900]\n",
      "[400 300 500] [300 200 600]\n",
      "[533.33333333 400.         600.        ] [566.66666667 433.33333333 733.33333333]\n",
      "[600 500 700] [700 600 900]\n",
      "[400 300 400] [500 300 200]\n",
      "[500.         433.33333333 600.        ] [633.33333333 433.33333333 666.66666667]\n"
     ]
    }
   ],
   "source": [
    "import numpy as np\n",
    "\n",
    "A = np.array([[400, 500, 600], [500, 300, 500], [700, 400, 700]])\n",
    "B = np.array([[500, 700, 700], [300, 400, 600], [900, 200, 900]])\n",
    "\n",
    "print(A.max(axis=0), B.max(axis=0))\n",
    "print(A.min(axis=0), B.min(axis=0))\n",
    "print(A.mean(axis=0), B.mean(axis=0))\n",
    "\n",
    "print(A.max(axis=1), B.max(axis=1))\n",
    "print(A.min(axis=1), B.min(axis=1))\n",
    "print(A.mean(axis=1), B.mean(axis=1))\n"
   ]
  },
  {
   "cell_type": "code",
   "execution_count": 2,
   "metadata": {},
   "outputs": [
    {
     "name": "stdout",
     "output_type": "stream",
     "text": [
      "[[ 100  200  100]\n",
      " [-200  100  100]\n",
      " [ 200 -200  200]]\n",
      "[[100 200 100]\n",
      " [200 100 100]\n",
      " [200 200 200]]\n"
     ]
    }
   ],
   "source": [
    "print(B - A)\n",
    "print(np.abs(A - B))"
   ]
  },
  {
   "cell_type": "code",
   "execution_count": 3,
   "metadata": {},
   "outputs": [
    {
     "name": "stdout",
     "output_type": "stream",
     "text": [
      "1\n",
      "0\n"
     ]
    }
   ],
   "source": [
    "print(np.argmax(np.abs(A - B)))\n",
    "print(np.argmin(np.abs(A - B)))"
   ]
  },
  {
   "cell_type": "code",
   "execution_count": 4,
   "metadata": {},
   "outputs": [
    {
     "name": "stdout",
     "output_type": "stream",
     "text": [
      "[[[0.18673292 0.5858851  0.21378914 0.4733633 ]\n",
      "  [0.87974116 0.51056924 0.2171001  0.78517331]\n",
      "  [0.3003577  0.71292238 0.52795969 0.48313986]]\n",
      "\n",
      " [[0.74908207 0.63205636 0.81776718 0.41110137]\n",
      "  [0.32440414 0.05147941 0.01377974 0.0638903 ]\n",
      "  [0.12010567 0.25580893 0.5751987  0.59569391]]]\n",
      "(2, 3, 4)\n",
      "(2, 1, 3, 4)\n",
      "(2, 1, 3, 1, 4)\n",
      "(2, 3, 4, 1)\n"
     ]
    }
   ],
   "source": [
    "A = np.random.rand(2, 3, 4) # 3차원 넘파이\n",
    "print(A)\n",
    "\n",
    "print(A.shape)\n",
    "print(A[:, np.newaxis, :, :].shape) # 현재 3차원이므로 :가 3개가 필요하고, 행 추가 부분에 np.newaxis를 추가한다. \n",
    "print(A[:, np.newaxis, :, np.newaxis, :].shape)\n",
    "print(A[..., np.newaxis].shape) # ... -> 아프이 차원이 몇개든 그 뒤에 한 차원은 늘려줄래"
   ]
  }
 ],
 "metadata": {
  "kernelspec": {
   "display_name": "Python 3",
   "language": "python",
   "name": "python3"
  },
  "language_info": {
   "codemirror_mode": {
    "name": "ipython",
    "version": 3
   },
   "file_extension": ".py",
   "mimetype": "text/x-python",
   "name": "python",
   "nbconvert_exporter": "python",
   "pygments_lexer": "ipython3",
   "version": "3.10.11"
  },
  "orig_nbformat": 4
 },
 "nbformat": 4,
 "nbformat_minor": 2
}
